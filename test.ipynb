{
 "cells": [
  {
   "cell_type": "code",
   "execution_count": 100,
   "metadata": {},
   "outputs": [
    {
     "name": "stdout",
     "output_type": "stream",
     "text": [
      "Index: 0 Item: guitar\n",
      "Index: 1 Item: cup\n",
      "Index: 2 Item: watch\n",
      "The list is empty\n"
     ]
    },
    {
     "data": {
      "text/plain": [
       "False"
      ]
     },
     "execution_count": 100,
     "metadata": {},
     "output_type": "execute_result"
    }
   ],
   "source": [
    "things = [\"guitar\", \"cup\", \"watch\"]\n",
    "empty_list = []\n",
    "def list_sayer(list):\n",
    "  if list == []:\n",
    "    print(\"The list is empty\")\n",
    "    return(False)\n",
    "  for i,name in enumerate(list):\n",
    "    print(f\"Index: {i} Item: {name}\")\n",
    "  return(True)\n",
    "\n",
    "list_sayer(things)\n",
    "list_sayer(empty_list)"
   ]
  },
  {
   "cell_type": "code",
   "execution_count": 102,
   "metadata": {},
   "outputs": [
    {
     "name": "stdout",
     "output_type": "stream",
     "text": [
      "Key: A Value: 1\n",
      "Key: B Value: 2\n",
      "Key: C Value: 3\n",
      "Dictionary Empty!\n"
     ]
    },
    {
     "data": {
      "text/plain": [
       "False"
      ]
     },
     "execution_count": 102,
     "metadata": {},
     "output_type": "execute_result"
    }
   ],
   "source": [
    "dict_test = {\"A\": 1, \"B\": 2, \"C\": 3}\n",
    "dict_empty = {}\n",
    "\n",
    "def dict_sayer(dict):\n",
    "    if len(dict) == 0:\n",
    "      print(\"Dictionary Empty!\")\n",
    "      return(False)\n",
    "    \n",
    "    for key, value in dict.items():\n",
    "      print(\"Key: {} Value: {}\".format(key, value))\n",
    "    return (True)\n",
    "\n",
    "dict_sayer(dict_test)\n",
    "dict_sayer(dict_empty)"
   ]
  },
  {
   "cell_type": "code",
   "execution_count": 103,
   "metadata": {},
   "outputs": [
    {
     "data": {
      "text/plain": [
       "('B', 7)"
      ]
     },
     "execution_count": 103,
     "metadata": {},
     "output_type": "execute_result"
    }
   ],
   "source": [
    "dict_test = {\"A\": 1, \"B\": 7, \"C\": 3}\n",
    "\n",
    "def greatest(dict):\n",
    "  top_value = max(dict.values())\n",
    "  top_key = max(dict, key=dict.get)\n",
    "  return (top_key, top_value)\n",
    "greatest(dict_test)"
   ]
  },
  {
   "cell_type": "code",
   "execution_count": 111,
   "metadata": {},
   "outputs": [
    {
     "data": {
      "text/plain": [
       "((['Aengus', 'Bear', 'Cali'], 3), (['a', 'b', 'c', 'd'], 4))"
      ]
     },
     "execution_count": 111,
     "metadata": {},
     "output_type": "execute_result"
    }
   ],
   "source": [
    "list_a = [\"Aengus\", \"Bear\", \"Cali\"]\n",
    "list_b = [\"6yo\", \"15yo\", \"9yo\"]\n",
    "list_c = [\"a\", \"b\", \"c\", \"d\"]\n",
    "list_d = [\"tan\", \"sesame\", \"spotted\"]\n",
    "\n",
    "def zipper(list1, list2):\n",
    "  \n",
    "  if len(list1) == len(list2):\n",
    "    return dict(zip(list1, list2))\n",
    "\n",
    "  else:\n",
    "    return tuple([list1, len(list1)]), tuple([list2, len(list2)])\n",
    "zipper(list_a, list_c)\n"
   ]
  }
 ],
 "metadata": {
  "kernelspec": {
   "display_name": "Python 3.9.6 64-bit",
   "language": "python",
   "name": "python3"
  },
  "language_info": {
   "codemirror_mode": {
    "name": "ipython",
    "version": 3
   },
   "file_extension": ".py",
   "mimetype": "text/x-python",
   "name": "python",
   "nbconvert_exporter": "python",
   "pygments_lexer": "ipython3",
   "version": "3.9.6"
  },
  "orig_nbformat": 4,
  "vscode": {
   "interpreter": {
    "hash": "31f2aee4e71d21fbe5cf8b01ff0e069b9275f58929596ceb00d14d90e3e16cd6"
   }
  }
 },
 "nbformat": 4,
 "nbformat_minor": 2
}
