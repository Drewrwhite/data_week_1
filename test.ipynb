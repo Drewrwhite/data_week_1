{
 "cells": [
  {
   "cell_type": "code",
   "execution_count": 50,
   "metadata": {},
   "outputs": [
    {
     "name": "stdout",
     "output_type": "stream",
     "text": [
      "The list is empty\n"
     ]
    },
    {
     "data": {
      "text/plain": [
       "False"
      ]
     },
     "execution_count": 50,
     "metadata": {},
     "output_type": "execute_result"
    }
   ],
   "source": [
    "things = [\"guitar\", \"cup\", \"watch\"]\n",
    "empty_list = []\n",
    "def list_sayer(list):\n",
    "  if list == []:\n",
    "    print(\"The list is empty\")\n",
    "    return(False)\n",
    "  for i,name in enumerate(list):\n",
    "    print(f\"Index: {i} Item: {name}\")\n",
    "  return(True)\n",
    "\n",
    "list_sayer(empty_list)"
   ]
  },
  {
   "cell_type": "code",
   "execution_count": 62,
   "metadata": {},
   "outputs": [
    {
     "name": "stdout",
     "output_type": "stream",
     "text": [
      "Key: A Value: 1\n",
      "Key: B Value: 2\n",
      "Key: C Value: 3\n"
     ]
    },
    {
     "data": {
      "text/plain": [
       "True"
      ]
     },
     "execution_count": 62,
     "metadata": {},
     "output_type": "execute_result"
    }
   ],
   "source": [
    "dict_test = {\"A\": 1, \"B\": 2, \"C\": 3}\n",
    "dict_empty = {}\n",
    "\n",
    "def dict_sayer(dictionary):\n",
    "    if len(dictionary) == 0:\n",
    "      print(\"Dictionary empty\")\n",
    "      return(False)\n",
    "    \n",
    "    for key, value in dictionary.items():\n",
    "      print(\"Key: {} Value: {}\".format(key, value))\n",
    "    return (True)\n",
    "\n",
    "dict_sayer(dict_test)"
   ]
  },
  {
   "cell_type": "code",
   "execution_count": 76,
   "metadata": {},
   "outputs": [
    {
     "data": {
      "text/plain": [
       "('C', 3)"
      ]
     },
     "execution_count": 76,
     "metadata": {},
     "output_type": "execute_result"
    }
   ],
   "source": [
    "dict_test = {\"A\": 1, \"B\": 2, \"C\": 3}\n",
    "\n",
    "def greatest(dictionary):\n",
    "  top_value = max(dictionary.values())\n",
    "  top_key = max(dictionary, key=dictionary.get)\n",
    "  return (top_key, top_value)\n",
    "greatest(dict_test)"
   ]
  }
 ],
 "metadata": {
  "kernelspec": {
   "display_name": "Python 3.9.6 64-bit",
   "language": "python",
   "name": "python3"
  },
  "language_info": {
   "codemirror_mode": {
    "name": "ipython",
    "version": 3
   },
   "file_extension": ".py",
   "mimetype": "text/x-python",
   "name": "python",
   "nbconvert_exporter": "python",
   "pygments_lexer": "ipython3",
   "version": "3.9.6"
  },
  "orig_nbformat": 4,
  "vscode": {
   "interpreter": {
    "hash": "31f2aee4e71d21fbe5cf8b01ff0e069b9275f58929596ceb00d14d90e3e16cd6"
   }
  }
 },
 "nbformat": 4,
 "nbformat_minor": 2
}
